{
 "cells": [
  {
   "cell_type": "code",
   "execution_count": 1,
   "metadata": {
    "colab": {
     "base_uri": "https://localhost:8080/",
     "height": 130
    },
    "executionInfo": {
     "elapsed": 123,
     "status": "ok",
     "timestamp": 1694502548737,
     "user": {
      "displayName": "wcools",
      "userId": "01129417175522054046"
     },
     "user_tz": -120
    },
    "id": "2w_xhXFjklI_",
    "outputId": "a4c23e57-5331-4576-c8c5-390032a723bd"
   },
   "outputs": [
    {
     "data": {
      "text/html": [
       "<div>\n",
       "<style scoped>\n",
       "    .dataframe tbody tr th:only-of-type {\n",
       "        vertical-align: middle;\n",
       "    }\n",
       "\n",
       "    .dataframe tbody tr th {\n",
       "        vertical-align: top;\n",
       "    }\n",
       "\n",
       "    .dataframe thead th {\n",
       "        text-align: right;\n",
       "    }\n",
       "</style>\n",
       "<table border=\"1\" class=\"dataframe\">\n",
       "  <thead>\n",
       "    <tr style=\"text-align: right;\">\n",
       "      <th></th>\n",
       "      <th>MedInc</th>\n",
       "      <th>HouseAge</th>\n",
       "      <th>AveRooms</th>\n",
       "      <th>AveBedrms</th>\n",
       "      <th>Population</th>\n",
       "      <th>AveOccup</th>\n",
       "      <th>Latitude</th>\n",
       "      <th>Longitude</th>\n",
       "      <th>MedHouseVal</th>\n",
       "    </tr>\n",
       "  </thead>\n",
       "  <tbody>\n",
       "    <tr>\n",
       "      <th>0</th>\n",
       "      <td>8.3252</td>\n",
       "      <td>41.0</td>\n",
       "      <td>6.984127</td>\n",
       "      <td>1.02381</td>\n",
       "      <td>322.0</td>\n",
       "      <td>2.555556</td>\n",
       "      <td>37.88</td>\n",
       "      <td>-122.23</td>\n",
       "      <td>4.526</td>\n",
       "    </tr>\n",
       "    <tr>\n",
       "      <th>1</th>\n",
       "      <td>8.3014</td>\n",
       "      <td>21.0</td>\n",
       "      <td>6.238137</td>\n",
       "      <td>0.97188</td>\n",
       "      <td>2401.0</td>\n",
       "      <td>2.109842</td>\n",
       "      <td>37.86</td>\n",
       "      <td>-122.22</td>\n",
       "      <td>3.585</td>\n",
       "    </tr>\n",
       "  </tbody>\n",
       "</table>\n",
       "</div>"
      ],
      "text/plain": [
       "   MedInc  HouseAge  AveRooms  AveBedrms  Population  AveOccup  Latitude  \\\n",
       "0  8.3252      41.0  6.984127    1.02381       322.0  2.555556     37.88   \n",
       "1  8.3014      21.0  6.238137    0.97188      2401.0  2.109842     37.86   \n",
       "\n",
       "   Longitude  MedHouseVal  \n",
       "0    -122.23        4.526  \n",
       "1    -122.22        3.585  "
      ]
     },
     "execution_count": 1,
     "metadata": {},
     "output_type": "execute_result"
    }
   ],
   "source": [
    ">>> # Import required libraries\n",
    ">>> import pandas as pd\n",
    ">>> import numpy as np\n",
    ">>> import datetime as dt\n",
    "\n",
    ">>> from sklearn.datasets import fetch_california_housing\n",
    ">>> from sklearn.ensemble import RandomForestClassifier\n",
    ">>> from sklearn.metrics import roc_auc_score\n",
    "\n",
    ">>> cali = fetch_california_housing(as_frame=True)\n",
    ">>> df = pd.concat([cali.data, cali.target], axis=1)\n",
    ">>> df.head(2)"
   ]
  },
  {
   "cell_type": "code",
   "execution_count": 2,
   "metadata": {
    "executionInfo": {
     "elapsed": 120,
     "status": "ok",
     "timestamp": 1694502548737,
     "user": {
      "displayName": "wcools",
      "userId": "01129417175522054046"
     },
     "user_tz": -120
    },
    "id": "4M6Gc8n6mZcP"
   },
   "outputs": [],
   "source": [
    ">>> # add artificial Timestamp\n",
    ">>> Timestamps = [dt.datetime(2020,1,1) + dt.timedelta(hours=x/2) for x in df.index]\n",
    ">>> df['Timestamp'] = Timestamps\n",
    "\n",
    ">>> # add periods/partitions\n",
    ">>> train_beg = dt.datetime(2020,1,1)\n",
    ">>> train_end = dt.datetime(2020,5,1)\n",
    ">>> test_beg = dt.datetime(2020,5,1)\n",
    ">>> test_end = dt.datetime(2020,9,1)\n",
    ">>> df.loc[df['Timestamp'].between(train_beg, train_end, inclusive='left'), 'partition'] = 'train'\n",
    ">>> df.loc[df['Timestamp'].between(test_beg, test_end, inclusive='left'), 'partition'] = 'test'\n",
    ">>> df['partition'] = df['partition'].fillna('production')\n",
    "\n",
    ">>> # create new classification Target - house value higher than mean\n",
    ">>> df_train = df[df['partition']=='train']\n",
    ">>> df['Target'] = np.where(df['MedHouseVal'] > df_train['MedHouseVal'].median(), 1, 0)\n",
    ">>> df = df.drop('MedHouseVal', axis=1)\n",
    ">>> del df_train\n"
   ]
  },
  {
   "cell_type": "code",
   "execution_count": 3,
   "metadata": {
    "colab": {
     "base_uri": "https://localhost:8080/"
    },
    "executionInfo": {
     "elapsed": 1411,
     "status": "ok",
     "timestamp": 1694502550822,
     "user": {
      "displayName": "wcools",
      "userId": "01129417175522054046"
     },
     "user_tz": -120
    },
    "id": "oJtx4qq0mfKR",
    "outputId": "3a90c92d-4c6a-47bd-85e0-7e0966f7e8fb"
   },
   "outputs": [
    {
     "name": "stdout",
     "output_type": "stream",
     "text": [
      "train 1.0\n",
      "test 0.8737681614409617\n",
      "production 0.8224322932364313\n"
     ]
    }
   ],
   "source": [
    ">>> # fit classifier\n",
    ">>> Target = 'Target'\n",
    ">>> meta = 'partition'\n",
    ">>> features = ['MedInc', 'HouseAge', 'AveRooms', 'AveBedrms', 'Population', 'AveOccup', 'Latitude', 'Longitude']\n",
    "\n",
    "\n",
    ">>> df_train = df[df['partition']=='train']\n",
    "\n",
    ">>> clf = RandomForestClassifier(random_state=42)\n",
    ">>> clf.fit(df_train[features], df_train[Target])\n",
    ">>> df['y_pred_proba'] = clf.predict_proba(df[features])[:,1]\n",
    ">>> df['y_pred'] = df['y_pred_proba'].map(lambda p: int(p >= 0.8))\n",
    "\n",
    ">>> # Check roc auc score\n",
    ">>> for partition_name, partition_data in df.groupby('partition', sort=False):\n",
    "...     print(partition_name, roc_auc_score(partition_data[Target], partition_data['y_pred_proba']))"
   ]
  },
  {
   "cell_type": "code",
   "execution_count": 4,
   "metadata": {},
   "outputs": [
    {
     "data": {
      "text/plain": [
       "['Target',\n",
       " 'HouseAge',\n",
       " 'AveRooms',\n",
       " 'AveBedrms',\n",
       " 'Population',\n",
       " 'AveOccup',\n",
       " 'Latitude',\n",
       " 'Longitude']"
      ]
     },
     "execution_count": 4,
     "metadata": {},
     "output_type": "execute_result"
    }
   ],
   "source": [
    "cols = ['Target'] + df.columns.tolist()[1:-5]\n",
    "cols"
   ]
  },
  {
   "cell_type": "code",
   "execution_count": 5,
   "metadata": {
    "executionInfo": {
     "elapsed": 330,
     "status": "ok",
     "timestamp": 1694502697530,
     "user": {
      "displayName": "wcools",
      "userId": "01129417175522054046"
     },
     "user_tz": -120
    },
    "id": "Hy1i_pE1OQv-"
   },
   "outputs": [],
   "source": [
    "train = df.loc[df['partition'] == 'train', cols]\n",
    "train.to_csv('data/california-housing-dataset/train.csv', index=False)"
   ]
  },
  {
   "cell_type": "code",
   "execution_count": 6,
   "metadata": {
    "executionInfo": {
     "elapsed": 6,
     "status": "ok",
     "timestamp": 1694502698912,
     "user": {
      "displayName": "wcools",
      "userId": "01129417175522054046"
     },
     "user_tz": -120
    },
    "id": "zPCmVYMWOgE3"
   },
   "outputs": [],
   "source": [
    "test = df.loc[df['partition'] == 'test', cols]\n",
    "test.to_csv('data/california-housing-dataset/test.csv', index=False)"
   ]
  },
  {
   "cell_type": "code",
   "execution_count": 7,
   "metadata": {
    "executionInfo": {
     "elapsed": 550,
     "status": "ok",
     "timestamp": 1694502699459,
     "user": {
      "displayName": "wcools",
      "userId": "01129417175522054046"
     },
     "user_tz": -120
    },
    "id": "3Gl0Ft95OjJD"
   },
   "outputs": [],
   "source": [
    "prod = df.loc[df['partition'] == 'production', cols]\n",
    "prod.to_csv('data/california-housing-dataset/prod.csv', index=False)"
   ]
  }
 ],
 "metadata": {
  "colab": {
   "authorship_tag": "ABX9TyM5yPhlh3Qafgq4skixSREF",
   "provenance": []
  },
  "kernelspec": {
   "display_name": "conda_python3",
   "language": "python",
   "name": "conda_python3"
  },
  "language_info": {
   "codemirror_mode": {
    "name": "ipython",
    "version": 3
   },
   "file_extension": ".py",
   "mimetype": "text/x-python",
   "name": "python",
   "nbconvert_exporter": "python",
   "pygments_lexer": "ipython3",
   "version": "3.10.12"
  }
 },
 "nbformat": 4,
 "nbformat_minor": 1
}
