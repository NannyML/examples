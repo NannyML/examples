{
 "cells": [
  {
   "cell_type": "markdown",
   "id": "7e6e2db2",
   "metadata": {},
   "source": [
    "# Harnessing the Power of AWS SageMaker & NannyML: From Training & Deployment to Monitoring. \n",
    "\n",
    "# PART 1: Training and Deploying an XGboost Model on AWS SageMaker"
   ]
  },
  {
   "cell_type": "code",
   "execution_count": 1,
   "id": "4f8a65cf",
   "metadata": {},
   "outputs": [],
   "source": [
    "# !pip install xgboost"
   ]
  },
  {
   "cell_type": "markdown",
   "id": "b8bace17",
   "metadata": {},
   "source": [
    "## Setting up"
   ]
  },
  {
   "cell_type": "code",
   "execution_count": 2,
   "id": "301b26d8",
   "metadata": {},
   "outputs": [],
   "source": [
    "# Import necessary libraries and modules\n",
    "import pandas as pd\n",
    "import matplotlib.pyplot as plt\n",
    "import sagemaker, boto3, tarfile, sklearn, xgboost\n",
    "from sagemaker.inputs import TrainingInput\n",
    "from sagemaker.serializers import CSVSerializer"
   ]
  },
  {
   "cell_type": "code",
   "execution_count": 3,
   "id": "1ac6e156",
   "metadata": {},
   "outputs": [],
   "source": [
    "# Set up the SageMaker session, region, and execution role\n",
    "sess = sagemaker.Session()\n",
    "region = sess.boto_region_name\n",
    "role = sagemaker.get_execution_role()"
   ]
  },
  {
   "cell_type": "code",
   "execution_count": 4,
   "id": "405276fc",
   "metadata": {},
   "outputs": [],
   "source": [
    "# Define S3 bucket details\n",
    "bucket_name = 'demo-nannyml'\n",
    "prefix = 'california-housing'"
   ]
  },
  {
   "cell_type": "markdown",
   "id": "02b088d4",
   "metadata": {},
   "source": [
    "## Fetching the data"
   ]
  },
  {
   "cell_type": "code",
   "execution_count": 5,
   "id": "28ff5a45",
   "metadata": {},
   "outputs": [
    {
     "data": {
      "text/html": [
       "<div>\n",
       "<style scoped>\n",
       "    .dataframe tbody tr th:only-of-type {\n",
       "        vertical-align: middle;\n",
       "    }\n",
       "\n",
       "    .dataframe tbody tr th {\n",
       "        vertical-align: top;\n",
       "    }\n",
       "\n",
       "    .dataframe thead th {\n",
       "        text-align: right;\n",
       "    }\n",
       "</style>\n",
       "<table border=\"1\" class=\"dataframe\">\n",
       "  <thead>\n",
       "    <tr style=\"text-align: right;\">\n",
       "      <th></th>\n",
       "      <th>Target</th>\n",
       "      <th>HouseAge</th>\n",
       "      <th>AveRooms</th>\n",
       "      <th>AveBedrms</th>\n",
       "      <th>Population</th>\n",
       "      <th>AveOccup</th>\n",
       "      <th>Latitude</th>\n",
       "      <th>Longitude</th>\n",
       "    </tr>\n",
       "  </thead>\n",
       "  <tbody>\n",
       "    <tr>\n",
       "      <th>5754</th>\n",
       "      <td>1</td>\n",
       "      <td>47.0</td>\n",
       "      <td>7.031348</td>\n",
       "      <td>1.062696</td>\n",
       "      <td>911.0</td>\n",
       "      <td>2.855799</td>\n",
       "      <td>34.18</td>\n",
       "      <td>-118.28</td>\n",
       "    </tr>\n",
       "    <tr>\n",
       "      <th>3464</th>\n",
       "      <td>0</td>\n",
       "      <td>32.0</td>\n",
       "      <td>5.785203</td>\n",
       "      <td>1.136038</td>\n",
       "      <td>2291.0</td>\n",
       "      <td>5.467780</td>\n",
       "      <td>34.30</td>\n",
       "      <td>-118.46</td>\n",
       "    </tr>\n",
       "    <tr>\n",
       "      <th>4187</th>\n",
       "      <td>1</td>\n",
       "      <td>37.0</td>\n",
       "      <td>4.314149</td>\n",
       "      <td>1.021583</td>\n",
       "      <td>1088.0</td>\n",
       "      <td>2.609113</td>\n",
       "      <td>34.13</td>\n",
       "      <td>-118.23</td>\n",
       "    </tr>\n",
       "    <tr>\n",
       "      <th>4483</th>\n",
       "      <td>0</td>\n",
       "      <td>47.0</td>\n",
       "      <td>3.912458</td>\n",
       "      <td>1.107744</td>\n",
       "      <td>3020.0</td>\n",
       "      <td>5.084175</td>\n",
       "      <td>34.06</td>\n",
       "      <td>-118.19</td>\n",
       "    </tr>\n",
       "    <tr>\n",
       "      <th>5669</th>\n",
       "      <td>1</td>\n",
       "      <td>40.0</td>\n",
       "      <td>4.391156</td>\n",
       "      <td>1.030612</td>\n",
       "      <td>1304.0</td>\n",
       "      <td>2.217687</td>\n",
       "      <td>33.73</td>\n",
       "      <td>-118.30</td>\n",
       "    </tr>\n",
       "  </tbody>\n",
       "</table>\n",
       "</div>"
      ],
      "text/plain": [
       "      Target  HouseAge  AveRooms  AveBedrms  Population  AveOccup  Latitude  \\\n",
       "5754       1      47.0  7.031348   1.062696       911.0  2.855799     34.18   \n",
       "3464       0      32.0  5.785203   1.136038      2291.0  5.467780     34.30   \n",
       "4187       1      37.0  4.314149   1.021583      1088.0  2.609113     34.13   \n",
       "4483       0      47.0  3.912458   1.107744      3020.0  5.084175     34.06   \n",
       "5669       1      40.0  4.391156   1.030612      1304.0  2.217687     33.73   \n",
       "\n",
       "      Longitude  \n",
       "5754    -118.28  \n",
       "3464    -118.46  \n",
       "4187    -118.23  \n",
       "4483    -118.19  \n",
       "5669    -118.30  "
      ]
     },
     "execution_count": 5,
     "metadata": {},
     "output_type": "execute_result"
    }
   ],
   "source": [
    "# Load the data \n",
    "data_path = 'data/california-housing-dataset/{}.csv'\n",
    "train = pd.read_csv(data_path.format('train'))\n",
    "test = pd.read_csv(data_path.format('test'))\n",
    "prod = pd.read_csv(data_path.format('prod'))\n",
    "\n",
    "# Observe the data\n",
    "train.sample(5)"
   ]
  },
  {
   "cell_type": "code",
   "execution_count": 6,
   "id": "2ead9cc3",
   "metadata": {},
   "outputs": [],
   "source": [
    "# # Create a new S3 bucket for storing data\n",
    "s3 = boto3.client('s3')\n",
    "# s3.create_bucket(Bucket=bucket_name, CreateBucketConfiguration={'LocationConstraint': region})"
   ]
  },
  {
   "cell_type": "code",
   "execution_count": 7,
   "id": "1991faf7",
   "metadata": {},
   "outputs": [],
   "source": [
    "# Define paths for the train, test, and prod data in S3\n",
    "s3_train_path = f's3://{bucket_name}/{prefix}/train/'\n",
    "s3_train_csv_path = s3_train_path + 'train.csv'\n",
    "s3_test_csv_path = f's3://{bucket_name}/{prefix}/test.csv'\n",
    "s3_prod_csv_path = f's3://{bucket_name}/{prefix}/prod.csv'\n",
    "\n",
    "# Upload the data to the S3 bucket\n",
    "train.to_csv(s3_train_csv_path, index=False)\n",
    "prod.to_csv(s3_prod_csv_path, index=False)"
   ]
  },
  {
   "cell_type": "markdown",
   "id": "6ae382fc",
   "metadata": {},
   "source": [
    "## Training an XGBoost model on AWS Sagemaker"
   ]
  },
  {
   "cell_type": "code",
   "execution_count": 8,
   "id": "6e90f444",
   "metadata": {},
   "outputs": [],
   "source": [
    "# Retrieve the image URI for XGBoost in the current region\n",
    "image_uri = sagemaker.image_uris.retrieve('xgboost', region, '1.7-1')\n"
   ]
  },
  {
   "cell_type": "code",
   "execution_count": 9,
   "id": "042526ee",
   "metadata": {
    "scrolled": true
   },
   "outputs": [
    {
     "name": "stderr",
     "output_type": "stream",
     "text": [
      "NOTEBOOK_METADATA_FILE detected but failed to get valid domain and user from it.\n"
     ]
    }
   ],
   "source": [
    "# Define the XGBoost estimator with specified parameters\n",
    "xgb = sagemaker.estimator.Estimator(\n",
    "    image_uri,\n",
    "    output_path=f's3://{bucket_name}/{prefix}/training_result',\n",
    "    instance_count=1,\n",
    "    instance_type='ml.m4.xlarge',\n",
    "    sagemaker_session=sess,\n",
    "    role=role,\n",
    ")\n",
    "\n",
    "# Set hyperparameters for the XGBoost model\n",
    "xgb.set_hyperparameters(\n",
    "    objective='binary:logistic',\n",
    "    num_round=100,\n",
    "    max_depth=3,\n",
    ")"
   ]
  },
  {
   "cell_type": "code",
   "execution_count": 10,
   "id": "446a1531",
   "metadata": {
    "scrolled": true
   },
   "outputs": [
    {
     "name": "stderr",
     "output_type": "stream",
     "text": [
      "INFO:sagemaker:Creating training-job with name: sagemaker-xgboost-2023-09-22-09-16-58-827\n"
     ]
    },
    {
     "name": "stdout",
     "output_type": "stream",
     "text": [
      "2023-09-22 09:16:58 Starting - Starting the training job...\n",
      "2023-09-22 09:17:25 Starting - Preparing the instances for training.........\n",
      "2023-09-22 09:18:31 Downloading - Downloading input data...\n",
      "2023-09-22 09:19:06 Training - Downloading the training image...\n",
      "2023-09-22 09:19:42 Training - Training image download completed. Training in progress..\u001b[34m[2023-09-22 09:19:57.301 ip-10-0-218-165.eu-central-1.compute.internal:7 INFO utils.py:28] RULE_JOB_STOP_SIGNAL_FILENAME: None\u001b[0m\n",
      "\u001b[34m[2023-09-22 09:19:57.331 ip-10-0-218-165.eu-central-1.compute.internal:7 INFO profiler_config_parser.py:111] User has disabled profiler.\u001b[0m\n",
      "\u001b[34m[2023-09-22:09:19:57:INFO] Imported framework sagemaker_xgboost_container.training\u001b[0m\n",
      "\u001b[34m[2023-09-22:09:19:57:INFO] Failed to parse hyperparameter objective value binary:logistic to Json.\u001b[0m\n",
      "\u001b[34mReturning the value itself\u001b[0m\n",
      "\u001b[34m[2023-09-22:09:19:57:INFO] No GPUs detected (normal if no gpus installed)\u001b[0m\n",
      "\u001b[34m[2023-09-22:09:19:57:INFO] Running XGBoost Sagemaker in algorithm mode\u001b[0m\n",
      "\u001b[34m[2023-09-22:09:19:57:INFO] Determined 0 GPU(s) available on the instance.\u001b[0m\n",
      "\u001b[34m[2023-09-22:09:19:57:INFO] Determined delimiter of CSV input is ','\u001b[0m\n",
      "\u001b[34m[2023-09-22:09:19:57:INFO] File path /opt/ml/input/data/train of input files\u001b[0m\n",
      "\u001b[34m[2023-09-22:09:19:57:INFO] Making smlinks from folder /opt/ml/input/data/train to folder /tmp/sagemaker_xgboost_input_data\u001b[0m\n",
      "\u001b[34m[2023-09-22:09:19:57:INFO] creating symlink between Path /opt/ml/input/data/train/train.csv and destination /tmp/sagemaker_xgboost_input_data/train.csv-5523740740987165709\u001b[0m\n",
      "\u001b[34m[2023-09-22:09:19:57:INFO] files path: /tmp/sagemaker_xgboost_input_data\u001b[0m\n",
      "\u001b[34m[2023-09-22:09:19:57:INFO] Determined delimiter of CSV input is ','\u001b[0m\n",
      "\u001b[34m[2023-09-22:09:19:57:INFO] Single node training.\u001b[0m\n",
      "\u001b[34m[2023-09-22:09:19:57:INFO] Train matrix has 5809 rows and 7 columns\u001b[0m\n",
      "\u001b[34m[2023-09-22 09:19:57.837 ip-10-0-218-165.eu-central-1.compute.internal:7 INFO json_config.py:92] Creating hook from json_config at /opt/ml/input/config/debughookconfig.json.\u001b[0m\n",
      "\u001b[34m[2023-09-22 09:19:57.838 ip-10-0-218-165.eu-central-1.compute.internal:7 INFO hook.py:206] tensorboard_dir has not been set for the hook. SMDebug will not be exporting tensorboard summaries.\u001b[0m\n",
      "\u001b[34m[2023-09-22 09:19:57.839 ip-10-0-218-165.eu-central-1.compute.internal:7 INFO hook.py:259] Saving to /opt/ml/output/tensors\u001b[0m\n",
      "\u001b[34m[2023-09-22 09:19:57.839 ip-10-0-218-165.eu-central-1.compute.internal:7 INFO state_store.py:77] The checkpoint config file /opt/ml/input/config/checkpointconfig.json does not exist.\u001b[0m\n",
      "\u001b[34m[2023-09-22:09:19:57:INFO] Debug hook created from config\u001b[0m\n",
      "\u001b[34m[0]#011train-logloss:0.56803\u001b[0m\n",
      "\u001b[34m[2023-09-22 09:19:57.850 ip-10-0-218-165.eu-central-1.compute.internal:7 INFO hook.py:427] Monitoring the collections: metrics\u001b[0m\n",
      "\u001b[34m[2023-09-22 09:19:57.853 ip-10-0-218-165.eu-central-1.compute.internal:7 INFO hook.py:491] Hook is writing from the hook with pid: 7\u001b[0m\n",
      "\u001b[34m[1]#011train-logloss:0.49136\u001b[0m\n",
      "\u001b[34m[2]#011train-logloss:0.45822\u001b[0m\n",
      "\u001b[34m[3]#011train-logloss:0.41377\u001b[0m\n",
      "\u001b[34m[4]#011train-logloss:0.39514\u001b[0m\n",
      "\u001b[34m[5]#011train-logloss:0.37861\u001b[0m\n",
      "\u001b[34m[6]#011train-logloss:0.36374\u001b[0m\n",
      "\u001b[34m[7]#011train-logloss:0.33686\u001b[0m\n",
      "\u001b[34m[8]#011train-logloss:0.32281\u001b[0m\n",
      "\u001b[34m[9]#011train-logloss:0.31438\u001b[0m\n",
      "\u001b[34m[10]#011train-logloss:0.29736\u001b[0m\n",
      "\u001b[34m[11]#011train-logloss:0.29095\u001b[0m\n",
      "\u001b[34m[12]#011train-logloss:0.28264\u001b[0m\n",
      "\u001b[34m[13]#011train-logloss:0.27494\u001b[0m\n",
      "\u001b[34m[14]#011train-logloss:0.26306\u001b[0m\n",
      "\u001b[34m[15]#011train-logloss:0.25515\u001b[0m\n",
      "\u001b[34m[16]#011train-logloss:0.25072\u001b[0m\n",
      "\u001b[34m[17]#011train-logloss:0.24654\u001b[0m\n",
      "\u001b[34m[18]#011train-logloss:0.24154\u001b[0m\n",
      "\u001b[34m[19]#011train-logloss:0.23739\u001b[0m\n",
      "\u001b[34m[20]#011train-logloss:0.23443\u001b[0m\n",
      "\u001b[34m[21]#011train-logloss:0.23164\u001b[0m\n",
      "\u001b[34m[22]#011train-logloss:0.22566\u001b[0m\n",
      "\u001b[34m[23]#011train-logloss:0.22243\u001b[0m\n",
      "\u001b[34m[24]#011train-logloss:0.21820\u001b[0m\n",
      "\u001b[34m[25]#011train-logloss:0.21388\u001b[0m\n",
      "\u001b[34m[26]#011train-logloss:0.21062\u001b[0m\n",
      "\u001b[34m[27]#011train-logloss:0.20823\u001b[0m\n",
      "\u001b[34m[28]#011train-logloss:0.20658\u001b[0m\n",
      "\u001b[34m[29]#011train-logloss:0.20412\u001b[0m\n",
      "\u001b[34m[30]#011train-logloss:0.20092\u001b[0m\n",
      "\u001b[34m[31]#011train-logloss:0.19872\u001b[0m\n",
      "\u001b[34m[32]#011train-logloss:0.19642\u001b[0m\n",
      "\u001b[34m[33]#011train-logloss:0.19497\u001b[0m\n",
      "\u001b[34m[34]#011train-logloss:0.19214\u001b[0m\n",
      "\u001b[34m[35]#011train-logloss:0.19048\u001b[0m\n",
      "\u001b[34m[36]#011train-logloss:0.18929\u001b[0m\n",
      "\u001b[34m[37]#011train-logloss:0.18624\u001b[0m\n",
      "\u001b[34m[38]#011train-logloss:0.18460\u001b[0m\n",
      "\u001b[34m[39]#011train-logloss:0.18368\u001b[0m\n",
      "\u001b[34m[40]#011train-logloss:0.18191\u001b[0m\n",
      "\u001b[34m[41]#011train-logloss:0.18061\u001b[0m\n",
      "\u001b[34m[42]#011train-logloss:0.17905\u001b[0m\n",
      "\u001b[34m[43]#011train-logloss:0.17821\u001b[0m\n",
      "\u001b[34m[44]#011train-logloss:0.17612\u001b[0m\n",
      "\u001b[34m[45]#011train-logloss:0.17550\u001b[0m\n",
      "\u001b[34m[46]#011train-logloss:0.17449\u001b[0m\n",
      "\u001b[34m[47]#011train-logloss:0.17229\u001b[0m\n",
      "\u001b[34m[48]#011train-logloss:0.17125\u001b[0m\n",
      "\u001b[34m[49]#011train-logloss:0.17064\u001b[0m\n",
      "\u001b[34m[50]#011train-logloss:0.16909\u001b[0m\n",
      "\u001b[34m[51]#011train-logloss:0.16790\u001b[0m\n",
      "\u001b[34m[52]#011train-logloss:0.16633\u001b[0m\n",
      "\u001b[34m[53]#011train-logloss:0.16495\u001b[0m\n",
      "\u001b[34m[54]#011train-logloss:0.16372\u001b[0m\n",
      "\u001b[34m[55]#011train-logloss:0.16316\u001b[0m\n",
      "\u001b[34m[56]#011train-logloss:0.16204\u001b[0m\n",
      "\u001b[34m[57]#011train-logloss:0.16155\u001b[0m\n",
      "\u001b[34m[58]#011train-logloss:0.16126\u001b[0m\n",
      "\u001b[34m[59]#011train-logloss:0.16000\u001b[0m\n",
      "\u001b[34m[60]#011train-logloss:0.15964\u001b[0m\n",
      "\u001b[34m[61]#011train-logloss:0.15904\u001b[0m\n",
      "\u001b[34m[62]#011train-logloss:0.15774\u001b[0m\n",
      "\u001b[34m[63]#011train-logloss:0.15655\u001b[0m\n",
      "\u001b[34m[64]#011train-logloss:0.15579\u001b[0m\n",
      "\u001b[34m[65]#011train-logloss:0.15477\u001b[0m\n",
      "\u001b[34m[66]#011train-logloss:0.15387\u001b[0m\n",
      "\u001b[34m[67]#011train-logloss:0.15312\u001b[0m\n",
      "\u001b[34m[68]#011train-logloss:0.15215\u001b[0m\n",
      "\u001b[34m[69]#011train-logloss:0.15088\u001b[0m\n",
      "\u001b[34m[70]#011train-logloss:0.14965\u001b[0m\n",
      "\u001b[34m[71]#011train-logloss:0.14802\u001b[0m\n",
      "\u001b[34m[72]#011train-logloss:0.14698\u001b[0m\n",
      "\u001b[34m[73]#011train-logloss:0.14667\u001b[0m\n",
      "\u001b[34m[74]#011train-logloss:0.14649\u001b[0m\n",
      "\u001b[34m[75]#011train-logloss:0.14549\u001b[0m\n",
      "\u001b[34m[76]#011train-logloss:0.14472\u001b[0m\n",
      "\u001b[34m[77]#011train-logloss:0.14405\u001b[0m\n",
      "\u001b[34m[78]#011train-logloss:0.14363\u001b[0m\n",
      "\u001b[34m[79]#011train-logloss:0.14303\u001b[0m\n",
      "\u001b[34m[80]#011train-logloss:0.14273\u001b[0m\n",
      "\u001b[34m[81]#011train-logloss:0.14222\u001b[0m\n",
      "\u001b[34m[82]#011train-logloss:0.14139\u001b[0m\n",
      "\u001b[34m[83]#011train-logloss:0.14073\u001b[0m\n",
      "\u001b[34m[84]#011train-logloss:0.13937\u001b[0m\n",
      "\u001b[34m[85]#011train-logloss:0.13832\u001b[0m\n",
      "\u001b[34m[86]#011train-logloss:0.13724\u001b[0m\n",
      "\u001b[34m[87]#011train-logloss:0.13644\u001b[0m\n",
      "\u001b[34m[88]#011train-logloss:0.13562\u001b[0m\n",
      "\u001b[34m[89]#011train-logloss:0.13485\u001b[0m\n",
      "\u001b[34m[90]#011train-logloss:0.13461\u001b[0m\n",
      "\u001b[34m[91]#011train-logloss:0.13400\u001b[0m\n",
      "\u001b[34m[92]#011train-logloss:0.13343\u001b[0m\n",
      "\u001b[34m[93]#011train-logloss:0.13310\u001b[0m\n",
      "\u001b[34m[94]#011train-logloss:0.13241\u001b[0m\n",
      "\u001b[34m[95]#011train-logloss:0.13189\u001b[0m\n",
      "\u001b[34m[96]#011train-logloss:0.13144\u001b[0m\n",
      "\u001b[34m[97]#011train-logloss:0.13048\u001b[0m\n",
      "\u001b[34m[98]#011train-logloss:0.12966\u001b[0m\n",
      "\u001b[34m[99]#011train-logloss:0.12901\u001b[0m\n",
      "\n",
      "2023-09-22 09:20:14 Uploading - Uploading generated training model\n",
      "2023-09-22 09:20:14 Completed - Training job completed\n",
      "Training seconds: 102\n",
      "Billable seconds: 102\n"
     ]
    }
   ],
   "source": [
    "# Specify the training data location\n",
    "training_input = TrainingInput(\n",
    "    s3_data=s3_train_path, content_type='csv'\n",
    ")\n",
    "\n",
    "# Train the model using the training data\n",
    "xgb.fit({'train': training_input})"
   ]
  },
  {
   "cell_type": "code",
   "execution_count": 11,
   "id": "8c27ad33",
   "metadata": {},
   "outputs": [
    {
     "name": "stdout",
     "output_type": "stream",
     "text": [
      "s3://demo-nannyml/california-housing/training_result/sagemaker-xgboost-2023-09-22-09-16-58-827/output/model.tar.gz\n"
     ]
    }
   ],
   "source": [
    "# Get the path of the trained model artifact in S3\n",
    "s3_model_file_path = xgb.latest_training_job.describe()['ModelArtifacts']['S3ModelArtifacts']\n",
    "print(s3_model_file_path)"
   ]
  },
  {
   "cell_type": "markdown",
   "id": "2eb1b6dc",
   "metadata": {},
   "source": [
    "# Analyzing the model"
   ]
  },
  {
   "cell_type": "code",
   "execution_count": 12,
   "id": "3d640a9d",
   "metadata": {},
   "outputs": [
    {
     "data": {
      "image/png": "[encoded data removed]",
      "text/plain": [
       "<Figure size 640x480 with 1 Axes>"
      ]
     },
     "metadata": {},
     "output_type": "display_data"
    }
   ],
   "source": [
    "# Download the trained model artifact to the local environment\n",
    "s3.download_file(bucket_name, s3_model_file_path.split(bucket_name + '/')[1], 'model.tar.gz')\n",
    "\n",
    "# Extract the model artifact\n",
    "with tarfile.open('model.tar.gz') as tar: tar.extractall()\n",
    "    \n",
    "# Load the model and set its feature names\n",
    "xgb_model = xgboost.Booster()\n",
    "xgb_model.load_model('xgboost-model')\n",
    "xgb_model.feature_names = list(train.columns[1:])\n",
    "\n",
    "# Plot the feature importance of the trained model\n",
    "fig, ax = plt.subplots()\n",
    "xgboost.plot_importance(xgb_model, ax=ax)\n",
    "plt.show()"
   ]
  },
  {
   "cell_type": "markdown",
   "id": "a54388d0",
   "metadata": {},
   "source": [
    "# Evaluating the model"
   ]
  },
  {
   "cell_type": "code",
   "execution_count": 13,
   "id": "208694f8",
   "metadata": {
    "scrolled": true
   },
   "outputs": [
    {
     "name": "stdout",
     "output_type": "stream",
     "text": [
      "Test ROC AUC Score =  0.78\n"
     ]
    }
   ],
   "source": [
    "# Get predictions for the test dataset\n",
    "test_scores = xgb_model.predict(xgboost.DMatrix(test.iloc[:,1:]))\n",
    "\n",
    "# Measure ROC AUC\n",
    "print('Test ROC AUC Score = ', round(sklearn.metrics.roc_auc_score(y_true=test['Target'], y_score=test_scores),2))"
   ]
  },
  {
   "cell_type": "code",
   "execution_count": 14,
   "id": "57fa07f0",
   "metadata": {},
   "outputs": [],
   "source": [
    "# Assign prediction scores and predictions to the test and write to S3\n",
    "test['prediction_score'] = test_scores\n",
    "test['prediction'] = test_scores > 0.5\n",
    "s3_reference_csv_path = f's3://{bucket_name}/{prefix}/reference.csv'\n",
    "test.to_csv(s3_reference_csv_path, index=False)"
   ]
  },
  {
   "cell_type": "markdown",
   "id": "c8e5bcb7",
   "metadata": {},
   "source": [
    "# Deploying the model"
   ]
  },
  {
   "cell_type": "code",
   "execution_count": 17,
   "id": "60f5b0c8",
   "metadata": {
    "scrolled": false
   },
   "outputs": [
    {
     "name": "stderr",
     "output_type": "stream",
     "text": [
      "INFO:sagemaker:Creating model with name: sagemaker-xgboost-2023-09-22-09-26-42-315\n",
      "INFO:sagemaker:Creating endpoint-config with name california-housing-endpoint\n",
      "INFO:sagemaker:Creating endpoint with name california-housing-endpoint\n"
     ]
    },
    {
     "name": "stdout",
     "output_type": "stream",
     "text": [
      "------!"
     ]
    }
   ],
   "source": [
    "# Deploy the trained model as an endpoint\n",
    "xgb_predictor = xgb.deploy(\n",
    "    endpoint_name=prefix + '-endpoint',\n",
    "    initial_instance_count=1, \n",
    "    instance_type=\"ml.m4.xlarge\", \n",
    "    serializer=CSVSerializer()\n",
    ")"
   ]
  },
  {
   "cell_type": "markdown",
   "id": "db5c3ee6",
   "metadata": {},
   "source": [
    "# Testing the end-point"
   ]
  },
  {
   "cell_type": "code",
   "execution_count": 18,
   "id": "9afc725a",
   "metadata": {},
   "outputs": [
    {
     "data": {
      "text/plain": [
       "True"
      ]
     },
     "execution_count": 18,
     "metadata": {},
     "output_type": "execute_result"
    }
   ],
   "source": [
    "# Make predictions using the deployed endpoint\n",
    "end_point_output = xgb_predictor.predict(test.iloc[:5,1:-2], initial_args={'ContentType': 'text/csv'})\n",
    "\n",
    "# Compare end-point predictions with test_scores\n",
    "all(test_scores[:5] == [float(i) for i in end_point_output.decode().split()])"
   ]
  },
  {
   "cell_type": "markdown",
   "id": "a95eb5ae",
   "metadata": {},
   "source": [
    "# Cleaning up"
   ]
  },
  {
   "cell_type": "code",
   "execution_count": 19,
   "id": "0f642915",
   "metadata": {},
   "outputs": [
    {
     "name": "stderr",
     "output_type": "stream",
     "text": [
      "INFO:sagemaker:Deleting endpoint configuration with name: california-housing-endpoint\n",
      "INFO:sagemaker:Deleting endpoint with name: california-housing-endpoint\n"
     ]
    }
   ],
   "source": [
    "# Delete the deployed endpoint to prevent further charges\n",
    "xgb_predictor.delete_endpoint()"
   ]
  }
 ],
 "metadata": {
  "kernelspec": {
   "display_name": "conda_python3",
   "language": "python",
   "name": "conda_python3"
  },
  "language_info": {
   "codemirror_mode": {
    "name": "ipython",
    "version": 3
   },
   "file_extension": ".py",
   "mimetype": "text/x-python",
   "name": "python",
   "nbconvert_exporter": "python",
   "pygments_lexer": "ipython3",
   "version": "3.10.12"
  }
 },
 "nbformat": 4,
 "nbformat_minor": 5
}
