{
 "cells": [
  {
   "cell_type": "markdown",
   "id": "8695817c",
   "metadata": {},
   "source": [
    "# Introduction\n",
    "- Today's learning objective\n",
    "- Next week\n",
    "- CTA"
   ]
  },
  {
   "cell_type": "markdown",
   "id": "1cd7ee5a",
   "metadata": {},
   "source": [
    "# Context"
   ]
  },
  {
   "cell_type": "markdown",
   "id": "7cdc0215",
   "metadata": {},
   "source": [
    "Usecase idea:\n",
    "https://api.openml.org/d/42729\n",
    "\n",
    "Actual dataset source:\n",
    "https://www.nyc.gov/site/tlc/about/tlc-trip-record-data.page\n",
    "\n",
    "Data dictionary:\n",
    "https://www.nyc.gov/assets/tlc/downloads/pdf/data_dictionary_trip_records_green.pdf"
   ]
  },
  {
   "cell_type": "markdown",
   "id": "f796f124",
   "metadata": {},
   "source": [
    "# Setup"
   ]
  },
  {
   "cell_type": "code",
   "execution_count": null,
   "id": "3c0635e7",
   "metadata": {},
   "outputs": [],
   "source": [
    "import pandas as pd\n",
    "import numpy as np\n",
    "import matplotlib.pyplot as plt\n",
    "\n",
    "from sklearn.metrics import mean_absolute_error\n",
    "from lightgbm import LGBMRegressor, plot_importance\n",
    "\n",
    "import nannyml as nml"
   ]
  },
  {
   "cell_type": "markdown",
   "id": "7515eb93",
   "metadata": {},
   "source": [
    "# Getting the data"
   ]
  },
  {
   "cell_type": "code",
   "execution_count": null,
   "id": "6e90071a",
   "metadata": {},
   "outputs": [],
   "source": [
    "# Read data from url\n",
    "url = \"https://d37ci6vzurychx.cloudfront.net/trip-data/green_tripdata_2016-12.parquet\"\n",
    "columns = ['lpep_pickup_datetime', 'PULocationID', 'DOLocationID', 'trip_distance', 'VendorID', 'payment_type', 'fare_amount', 'tip_amount']\n",
    "data = pd.read_parquet(url, columns=columns) # ignore the \"total amount\""
   ]
  },
  {
   "cell_type": "code",
   "execution_count": null,
   "id": "9843aa09",
   "metadata": {},
   "outputs": [],
   "source": [
    "data"
   ]
  },
  {
   "cell_type": "markdown",
   "id": "d53fefa2",
   "metadata": {},
   "source": [
    "# Preprocessing the data"
   ]
  },
  {
   "cell_type": "code",
   "execution_count": null,
   "id": "a678285e",
   "metadata": {},
   "outputs": [],
   "source": [
    "# Data selection\n",
    "data = data.loc[data['payment_type'] == 1,].drop(columns='payment_type') # Credit card\n",
    "\n",
    "# Data cleaning\n",
    "data = data.sort_values('lpep_pickup_datetime').reset_index(drop=True)\n",
    "categoric_columns = ['PULocationID', 'DOLocationID', 'VendorID'] # categoric_columns = ['RatecodeID', 'PULocationID', 'DOLocationID', 'trip_type', 'store_and_fwd_flag', 'passenger_count']\n",
    "data[categoric_columns] = data[categoric_columns].astype('category')\n",
    "\n",
    "# Feature engineering\n",
    "data['pickup_time'] = data['lpep_pickup_datetime'].dt.hour"
   ]
  },
  {
   "cell_type": "code",
   "execution_count": null,
   "id": "0e1af9ee",
   "metadata": {},
   "outputs": [],
   "source": [
    "# Create data partition\n",
    "data['partition'] = pd.cut(\n",
    "    data['lpep_pickup_datetime'],\n",
    "    bins= [pd.to_datetime('2016-12-01'),\n",
    "           pd.to_datetime('2016-12-08'),\n",
    "           pd.to_datetime('2016-12-16'),\n",
    "           pd.to_datetime('2017-01-01')],\n",
    "    right=False,\n",
    "    labels= ['train', 'test', 'prod']\n",
    ")\n",
    "\n",
    "# Set target and features\n",
    "target = 'tip_amount'\n",
    "features = [col for col in data.columns if col not in [target, 'lpep_pickup_datetime', 'partition']]\n",
    "\n",
    "# Split the data\n",
    "X_train = data.loc[data['partition'] == 'train', features]\n",
    "y_train = data.loc[data['partition'] == 'train', target]\n",
    "\n",
    "X_test = data.loc[data['partition'] == 'test', features]\n",
    "y_test = data.loc[data['partition'] == 'test', target]\n",
    "\n",
    "X_prod = data.loc[data['partition'] == 'prod', features]\n",
    "y_prod = data.loc[data['partition'] == 'prod', target]"
   ]
  },
  {
   "cell_type": "markdown",
   "id": "f5e8f4e4",
   "metadata": {},
   "source": [
    "# Exploring the training data"
   ]
  },
  {
   "cell_type": "code",
   "execution_count": null,
   "id": "d68c2328",
   "metadata": {
    "scrolled": true
   },
   "outputs": [],
   "source": [
    "display(y_train.describe().to_frame())"
   ]
  },
  {
   "cell_type": "code",
   "execution_count": null,
   "id": "fa4dac07",
   "metadata": {},
   "outputs": [],
   "source": [
    "y_train.plot(kind='box')\n",
    "plt.show()\n",
    "\n",
    "y_train.clip(lower=0, upper=y_train.quantile(0.95)).to_frame().hist()\n",
    "plt.show()"
   ]
  },
  {
   "cell_type": "code",
   "execution_count": null,
   "id": "88b42eea",
   "metadata": {},
   "outputs": [],
   "source": [
    "X_train.select_dtypes('category').describe()"
   ]
  },
  {
   "cell_type": "code",
   "execution_count": null,
   "id": "399dbb03",
   "metadata": {
    "scrolled": true
   },
   "outputs": [],
   "source": [
    "X_train.describe()"
   ]
  },
  {
   "cell_type": "markdown",
   "id": "549b98cf",
   "metadata": {},
   "source": [
    "# Train a model"
   ]
  },
  {
   "cell_type": "code",
   "execution_count": null,
   "id": "528fbf0f",
   "metadata": {},
   "outputs": [],
   "source": [
    "# Fit the model\n",
    "model = LGBMRegressor(random_state=111)\n",
    "model.fit(X_train, y_train)"
   ]
  },
  {
   "cell_type": "code",
   "execution_count": null,
   "id": "b0c8fe44",
   "metadata": {},
   "outputs": [],
   "source": [
    "# Make predictions\n",
    "y_pred_train = model.predict(X_train)\n",
    "y_pred_test = model.predict(X_test)"
   ]
  },
  {
   "cell_type": "markdown",
   "id": "6b4671c3",
   "metadata": {},
   "source": [
    "# Evaluate the model"
   ]
  },
  {
   "cell_type": "code",
   "execution_count": null,
   "id": "4fd0fe9b",
   "metadata": {},
   "outputs": [],
   "source": [
    "# Make baseline predictions\n",
    "y_pred_train_baseline = np.ones_like(y_train) * y_train.mean()\n",
    "y_pred_test_baseline = np.ones_like(y_test) * y_train.mean()\n",
    "\n",
    "# Measure train, test and baseline performance\n",
    "mae_train = mean_absolute_error(y_train, y_pred_train).round(4)\n",
    "mae_test = mean_absolute_error(y_test, y_pred_test).round(4)\n",
    "\n",
    "mae_train_baseline = mean_absolute_error(y_train, y_pred_train_baseline).round(4)\n",
    "mae_test_baseline = mean_absolute_error(y_test, y_pred_test_baseline).round(4)"
   ]
  },
  {
   "cell_type": "code",
   "execution_count": null,
   "id": "beb7b032",
   "metadata": {
    "scrolled": false
   },
   "outputs": [],
   "source": [
    "# Create performance report \n",
    "fig, (ax1, ax2) = plt.subplots(ncols=2, figsize=(12,4))\n",
    "\n",
    "title1 = 'Train MAE: {} (<> {})'.format(mae_train, mae_train_baseline) \n",
    "ax1.set(title=title1, xlabel='y_train', ylabel='y_pred')\n",
    "ax1.plot(y_train, y_train, color='red', linestyle=':')\n",
    "ax1.scatter(y_train, y_pred_train, alpha=0.1)\n",
    "\n",
    "title2 = 'Test MAE: {} (<> {})'.format(mae_test, mae_test_baseline)\n",
    "ax2.set(title=title2, xlabel='y_train', ylabel='y_pred')\n",
    "ax2.plot(y_test, y_test, color='red', linestyle=':')\n",
    "ax2.scatter(y_test, y_pred_test, alpha=0.1)\n",
    "\n",
    "plt.show()\n",
    "\n",
    "fig, ax = plt.subplots()\n",
    "plot_importance(model, ax=ax)\n",
    "plt.show()"
   ]
  },
  {
   "cell_type": "markdown",
   "id": "c0ae4833",
   "metadata": {},
   "source": [
    "# Deploy the model"
   ]
  },
  {
   "cell_type": "code",
   "execution_count": null,
   "id": "a84a4a2d",
   "metadata": {},
   "outputs": [],
   "source": [
    "y_pred_prod = model.predict(X_prod)"
   ]
  },
  {
   "cell_type": "markdown",
   "id": "1d28be1b",
   "metadata": {},
   "source": [
    "---"
   ]
  },
  {
   "cell_type": "markdown",
   "id": "49f5e98b",
   "metadata": {},
   "source": [
    "# Analysing ML model performance in production"
   ]
  },
  {
   "cell_type": "code",
   "execution_count": null,
   "id": "dd5e6ef3",
   "metadata": {},
   "outputs": [],
   "source": [
    "reference = X_test.copy() # features\n",
    "reference['y_pred'] = y_pred_test # predictions\n",
    "reference['tip_amount'] = y_test # ground truth\n",
    "reference = reference.join(data['lpep_pickup_datetime']) # date\n",
    "\n",
    "analysis = X_prod.copy() # features\n",
    "analysis['y_pred'] = y_pred_prod # predictions\n",
    "                            \n",
    "analysis = analysis.join(data['lpep_pickup_datetime']) # date"
   ]
  },
  {
   "cell_type": "markdown",
   "id": "901c0d81",
   "metadata": {},
   "source": [
    "## Estimating model performance\n",
    "Articles:\n",
    "- [DLE - direct loss estimation for regression](https://towardsdatascience.com/you-cant-predict-the-errors-of-your-model-or-can-you-1a2e4a1f38a0)\n",
    "\n",
    "- [CBPE - confidence-based performance estimation for classification](https://towardsai.net/p/l/estimating-model-performance-without-ground-truth)"
   ]
  },
  {
   "cell_type": "code",
   "execution_count": null,
   "id": "3dfbd7a4",
   "metadata": {
    "scrolled": false
   },
   "outputs": [],
   "source": [
    "dle = nml.DLE(\n",
    "    metrics=['mae'],\n",
    "    y_true='tip_amount',\n",
    "    y_pred='y_pred',\n",
    "    feature_column_names=features,\n",
    "    timestamp_column_name='lpep_pickup_datetime',\n",
    "    chunk_period='d'\n",
    ")\n",
    "\n",
    "dle.fit(reference)\n",
    "estimated_performance = dle.estimate(analysis)"
   ]
  },
  {
   "cell_type": "code",
   "execution_count": null,
   "id": "e4b34a9a",
   "metadata": {},
   "outputs": [],
   "source": [
    "estimated_performance.plot()"
   ]
  },
  {
   "cell_type": "markdown",
   "id": "7deda788",
   "metadata": {},
   "source": [
    "Don't forget about: **chunking**"
   ]
  },
  {
   "cell_type": "markdown",
   "id": "1eae90a3",
   "metadata": {},
   "source": [
    "# Multivariate data drift\n",
    "\n",
    "Articles:\n",
    "- [PCA based Data Reconstruction](https://towardsdatascience.com/detecting-covariate-shift-a-guide-to-the-multivariate-approach-c099bd1891b9)"
   ]
  },
  {
   "cell_type": "code",
   "execution_count": null,
   "id": "3a7b6877",
   "metadata": {
    "scrolled": false
   },
   "outputs": [],
   "source": [
    "drdc = nml.DataReconstructionDriftCalculator(\n",
    "    column_names=features,\n",
    "    timestamp_column_name='lpep_pickup_datetime',\n",
    "    chunk_period='d',\n",
    ")\n",
    "\n",
    "drdc.fit(reference)\n",
    "multivariate_data_drift = drdc.calculate(analysis)"
   ]
  },
  {
   "cell_type": "code",
   "execution_count": null,
   "id": "74a8f9c4",
   "metadata": {},
   "outputs": [],
   "source": [
    "multivariate_data_drift.plot()"
   ]
  },
  {
   "cell_type": "markdown",
   "id": "1f437f89",
   "metadata": {},
   "source": [
    "## Univariate data drift"
   ]
  },
  {
   "cell_type": "markdown",
   "id": "338347f3",
   "metadata": {},
   "source": [
    "Article:\n",
    "- [Univariate Drift Detection Methods](https://towardsdatascience.com/detecting-covariate-shift-a-guide-to-the-multivariate-approach-c099bd1891b9)"
   ]
  },
  {
   "cell_type": "code",
   "execution_count": null,
   "id": "79fed665",
   "metadata": {},
   "outputs": [],
   "source": [
    "udc = nml.UnivariateDriftCalculator(\n",
    "    column_names=features,\n",
    "    timestamp_column_name='lpep_pickup_datetime',\n",
    "    chunk_period='d',\n",
    ")\n",
    "\n",
    "udc.fit(reference)\n",
    "univariate_data_drift = udc.calculate(analysis)"
   ]
  },
  {
   "cell_type": "code",
   "execution_count": null,
   "id": "ba7f344b",
   "metadata": {
    "scrolled": false
   },
   "outputs": [],
   "source": [
    "for feature in features:\n",
    "    display(univariate_data_drift.filter(period='all', metrics='jensen_shannon', column_names=[feature]).plot(kind='distribution'))"
   ]
  },
  {
   "cell_type": "markdown",
   "id": "78d832d8",
   "metadata": {},
   "source": [
    "# Afterthoughts"
   ]
  },
  {
   "cell_type": "markdown",
   "id": "fb43caca",
   "metadata": {},
   "source": [
    "## False alarms"
   ]
  },
  {
   "cell_type": "code",
   "execution_count": null,
   "id": "4b5db120",
   "metadata": {},
   "outputs": [],
   "source": [
    "udc = nml.UnivariateDriftCalculator(\n",
    "    column_names=['VendorID'],\n",
    "    timestamp_column_name='lpep_pickup_datetime',\n",
    "    chunk_period='d',\n",
    "    categorical_methods=['chi2']\n",
    ")\n",
    "\n",
    "udc.fit(reference)\n",
    "univariate_data_drift = udc.calculate(analysis)"
   ]
  },
  {
   "cell_type": "code",
   "execution_count": null,
   "id": "fd759f94",
   "metadata": {},
   "outputs": [],
   "source": [
    "univariate_data_drift.plot(kind='distribution')"
   ]
  },
  {
   "cell_type": "markdown",
   "id": "91dd2472",
   "metadata": {},
   "source": [
    "## Realised performance"
   ]
  },
  {
   "cell_type": "code",
   "execution_count": null,
   "id": "42b90483",
   "metadata": {
    "scrolled": false
   },
   "outputs": [],
   "source": [
    "perfc = nml.PerformanceCalculator(\n",
    "    metrics=['mae'], #['mae', 'mape', 'mse', 'rmse']\n",
    "    y_true='tip_amount',\n",
    "    y_pred='y_pred',\n",
    "    problem_type='regression',\n",
    "    timestamp_column_name='lpep_pickup_datetime',\n",
    "    chunk_period='d'\n",
    ")\n",
    "\n",
    "perfc.fit(reference)\n",
    "realised_performance = perfc.calculate(analysis.assign(tip_amount = y_prod))"
   ]
  },
  {
   "cell_type": "code",
   "execution_count": null,
   "id": "a308acbb",
   "metadata": {},
   "outputs": [],
   "source": [
    "realised_performance.plot()"
   ]
  },
  {
   "cell_type": "markdown",
   "id": "46097a16",
   "metadata": {},
   "source": [
    "Don't forget about: **filtering results** & **overfitting**"
   ]
  },
  {
   "cell_type": "code",
   "execution_count": null,
   "id": "7e9b5f36",
   "metadata": {},
   "outputs": [],
   "source": [
    "# model = LGBMRegressor(random_state=111, num_leaves=500, n_estimators=500)\n",
    "# model.fit(pd.concat([X_train, X_test]), pd.concat([y_train, y_test]))"
   ]
  },
  {
   "cell_type": "markdown",
   "id": "1788cdcf",
   "metadata": {},
   "source": [
    "## Prediction drift"
   ]
  },
  {
   "cell_type": "code",
   "execution_count": null,
   "id": "e63ae3e2",
   "metadata": {
    "scrolled": false
   },
   "outputs": [],
   "source": [
    "udc = nml.UnivariateDriftCalculator(\n",
    "    column_names=['y_pred'],\n",
    "    timestamp_column_name='lpep_pickup_datetime',\n",
    "    chunk_period='d',\n",
    ")\n",
    "\n",
    "udc.fit(reference)\n",
    "univariate_data_drift = udc.calculate(analysis)\n",
    "\n",
    "univariate_data_drift.plot(kind='distribution')"
   ]
  },
  {
   "cell_type": "markdown",
   "id": "749c6ea4",
   "metadata": {},
   "source": [
    "## Target drift"
   ]
  },
  {
   "cell_type": "code",
   "execution_count": null,
   "id": "31c75fa6",
   "metadata": {},
   "outputs": [],
   "source": [
    "udc = nml.UnivariateDriftCalculator(\n",
    "    column_names=['tip_amount'],\n",
    "    timestamp_column_name='lpep_pickup_datetime',\n",
    "    chunk_period='d',\n",
    ")\n",
    "\n",
    "udc.fit(reference)\n",
    "univariate_data_drift = udc.calculate(analysis.assign(tip_amount = y_prod))\n",
    "\n",
    "univariate_data_drift.plot(kind='distribution')"
   ]
  }
 ],
 "metadata": {
  "kernelspec": {
   "display_name": "Python 3 (ipykernel)",
   "language": "python",
   "name": "python3"
  },
  "language_info": {
   "codemirror_mode": {
    "name": "ipython",
    "version": 3
   },
   "file_extension": ".py",
   "mimetype": "text/x-python",
   "name": "python",
   "nbconvert_exporter": "python",
   "pygments_lexer": "ipython3",
   "version": "3.10.8"
  }
 },
 "nbformat": 4,
 "nbformat_minor": 5
}
