{
 "cells": [
  {
   "cell_type": "markdown",
   "id": "8695817c",
   "metadata": {},
   "source": [
    "Introduction\n",
    "- Today's learning objective\n",
    "- Next week\n",
    "- CTA"
   ]
  },
  {
   "cell_type": "markdown",
   "id": "0c480405",
   "metadata": {},
   "source": [
    " <img src=\"go.nannyml.com_be-a-design-partner.png\"/>"
   ]
  },
  {
   "cell_type": "markdown",
   "id": "1cd7ee5a",
   "metadata": {},
   "source": [
    "# Context"
   ]
  },
  {
   "cell_type": "markdown",
   "id": "7cdc0215",
   "metadata": {},
   "source": [
    "Usecase idea:\n",
    "https://api.openml.org/d/42729\n",
    "\n",
    "Actual dataset source:\n",
    "https://www.nyc.gov/site/tlc/about/tlc-trip-record-data.page\n",
    "\n",
    "Data dictionary:\n",
    "https://www.nyc.gov/assets/tlc/downloads/pdf/data_dictionary_trip_records_green.pdf"
   ]
  },
  {
   "cell_type": "markdown",
   "id": "f796f124",
   "metadata": {},
   "source": [
    "# Setup"
   ]
  },
  {
   "cell_type": "code",
   "execution_count": null,
   "id": "3c0635e7",
   "metadata": {},
   "outputs": [],
   "source": [
    "import pandas as pd\n",
    "import numpy as np\n",
    "import matplotlib.pyplot as plt\n",
    "\n",
    "from sklearn.metrics import mean_absolute_error\n",
    "from lightgbm import LGBMRegressor, plot_importance\n",
    "\n",
    "import nannyml as nml"
   ]
  },
  {
   "cell_type": "markdown",
   "id": "7515eb93",
   "metadata": {},
   "source": [
    "# Getting the data"
   ]
  },
  {
   "cell_type": "code",
   "execution_count": null,
   "id": "6e90071a",
   "metadata": {},
   "outputs": [],
   "source": [
    "# Read data from url\n",
    "url = \"https://d37ci6vzurychx.cloudfront.net/trip-data/green_tripdata_2016-12.parquet\"\n",
    "columns = ['lpep_pickup_datetime', 'PULocationID', 'DOLocationID', 'trip_distance', 'VendorID', 'payment_type', 'fare_amount', 'tip_amount']\n",
    "data = pd.read_parquet(url, columns=columns) # ignore the \"total amount\""
   ]
  },
  {
   "cell_type": "markdown",
   "id": "d53fefa2",
   "metadata": {},
   "source": [
    "# Preprocessing the data"
   ]
  },
  {
   "cell_type": "code",
   "execution_count": null,
   "id": "a678285e",
   "metadata": {},
   "outputs": [],
   "source": [
    "# Data selection\n",
    "data = data.loc[data['payment_type'] == 1,].drop(columns='payment_type') # Credit cards\n",
    "\n",
    "# Data cleaning\n",
    "data = data.sort_values('lpep_pickup_datetime').reset_index(drop=True)\n",
    "categoric_columns = ['PULocationID', 'DOLocationID', 'VendorID']\n",
    "data[categoric_columns] = data[categoric_columns].astype('category')\n",
    "\n",
    "# Feature engineering\n",
    "data['pickup_time'] = data['lpep_pickup_datetime'].dt.hour"
   ]
  },
  {
   "cell_type": "code",
   "execution_count": null,
   "id": "0e1af9ee",
   "metadata": {},
   "outputs": [],
   "source": [
    "# Create data partition\n",
    "data['partition'] = pd.cut(\n",
    "    data['lpep_pickup_datetime'],\n",
    "    bins= [pd.to_datetime('2016-12-01'),\n",
    "           pd.to_datetime('2016-12-08'),\n",
    "           pd.to_datetime('2016-12-16'),\n",
    "           pd.to_datetime('2017-01-01')],\n",
    "    right=False,\n",
    "    labels= ['train', 'test', 'prod']\n",
    ")\n",
    "\n",
    "# Set target and features & date column\n",
    "target = 'tip_amount'\n",
    "features = [col for col in data.columns if col not in [target, 'lpep_pickup_datetime', 'partition']]\n",
    "\n",
    "# Split the data\n",
    "X_train = data.loc[data['partition'] == 'train', features]\n",
    "y_train = data.loc[data['partition'] == 'train', target]\n",
    "\n",
    "X_test = data.loc[data['partition'] == 'test', features]\n",
    "y_test = data.loc[data['partition'] == 'test', target]\n",
    "\n",
    "X_prod = data.loc[data['partition'] == 'prod', features]\n",
    "y_prod = data.loc[data['partition'] == 'prod', target]"
   ]
  },
  {
   "cell_type": "markdown",
   "id": "549b98cf",
   "metadata": {},
   "source": [
    "# Train a model"
   ]
  },
  {
   "cell_type": "code",
   "execution_count": null,
   "id": "528fbf0f",
   "metadata": {},
   "outputs": [],
   "source": [
    "# Fit the model\n",
    "model = LGBMRegressor(random_state=111)\n",
    "model.fit(X_train, y_train)"
   ]
  },
  {
   "cell_type": "code",
   "execution_count": null,
   "id": "b0c8fe44",
   "metadata": {},
   "outputs": [],
   "source": [
    "# Make predictions\n",
    "y_pred_train = model.predict(X_train)\n",
    "y_pred_test = model.predict(X_test)"
   ]
  },
  {
   "cell_type": "markdown",
   "id": "6b4671c3",
   "metadata": {},
   "source": [
    "# Evaluate the model"
   ]
  },
  {
   "cell_type": "code",
   "execution_count": null,
   "id": "4fd0fe9b",
   "metadata": {},
   "outputs": [],
   "source": [
    "# Make baseline predictions\n",
    "y_pred_train_baseline = np.ones_like(y_train) * y_train.mean()\n",
    "y_pred_test_baseline = np.ones_like(y_test) * y_train.mean()\n",
    "\n",
    "# Measure train, test and baseline performance\n",
    "mae_train = mean_absolute_error(y_train, y_pred_train).round(4)\n",
    "mae_test = mean_absolute_error(y_test, y_pred_test).round(4)\n",
    "\n",
    "mae_train_baseline = mean_absolute_error(y_train, y_pred_train_baseline).round(4)\n",
    "mae_test_baseline = mean_absolute_error(y_test, y_pred_test_baseline).round(4)"
   ]
  },
  {
   "cell_type": "code",
   "execution_count": null,
   "id": "beb7b032",
   "metadata": {
    "scrolled": false
   },
   "outputs": [],
   "source": [
    "# Create performance report \n",
    "fig, (ax1, ax2) = plt.subplots(ncols=2, figsize=(12,4))\n",
    "\n",
    "title1 = 'Train MAE: {} (<> {})'.format(mae_train, mae_train_baseline) \n",
    "ax1.set(title=title1, xlabel='y_train', ylabel='y_pred')\n",
    "ax1.plot(y_train, y_train, color='red', linestyle=':')\n",
    "ax1.scatter(y_train, y_pred_train, alpha=0.1)\n",
    "\n",
    "title2 = 'Test MAE: {} (<> {})'.format(mae_test, mae_test_baseline)\n",
    "ax2.set(title=title2, xlabel='y_train', ylabel='y_pred')\n",
    "ax2.plot(y_test, y_test, color='red', linestyle=':')\n",
    "ax2.scatter(y_test, y_pred_test, alpha=0.1)\n",
    "\n",
    "plt.show()\n",
    "\n",
    "fig, ax = plt.subplots()\n",
    "plot_importance(model, ax=ax)\n",
    "plt.show()"
   ]
  },
  {
   "cell_type": "markdown",
   "id": "c0ae4833",
   "metadata": {},
   "source": [
    "# Deploy the model"
   ]
  },
  {
   "cell_type": "code",
   "execution_count": null,
   "id": "a84a4a2d",
   "metadata": {},
   "outputs": [],
   "source": [
    "y_pred_prod = model.predict(X_prod)"
   ]
  },
  {
   "cell_type": "markdown",
   "id": "1d28be1b",
   "metadata": {},
   "source": [
    "---"
   ]
  },
  {
   "cell_type": "markdown",
   "id": "49f5e98b",
   "metadata": {},
   "source": [
    "# Analysing ML model performance in production"
   ]
  },
  {
   "cell_type": "code",
   "execution_count": null,
   "id": "53e1ce07",
   "metadata": {},
   "outputs": [],
   "source": []
  },
  {
   "cell_type": "markdown",
   "id": "901c0d81",
   "metadata": {},
   "source": [
    "## 1. Estimating model performance\n",
    "Articles:\n",
    "- [DLE - direct loss estimation for regression](https://towardsdatascience.com/you-cant-predict-the-errors-of-your-model-or-can-you-1a2e4a1f38a0)\n",
    "\n",
    "- [CBPE - confidence-based performance estimation for classification](https://towardsai.net/p/l/estimating-model-performance-without-ground-truth)"
   ]
  },
  {
   "cell_type": "code",
   "execution_count": null,
   "id": "e82a9132",
   "metadata": {},
   "outputs": [],
   "source": []
  },
  {
   "cell_type": "markdown",
   "id": "1eae90a3",
   "metadata": {},
   "source": [
    "## 2. Multivariate data drift\n",
    "\n",
    "Articles:\n",
    "- [PCA based Data Reconstruction](https://towardsdatascience.com/detecting-covariate-shift-a-guide-to-the-multivariate-approach-c099bd1891b9)"
   ]
  },
  {
   "cell_type": "code",
   "execution_count": null,
   "id": "f41e0350",
   "metadata": {},
   "outputs": [],
   "source": []
  },
  {
   "cell_type": "markdown",
   "id": "1f437f89",
   "metadata": {},
   "source": [
    "## 3. Univariate data drift\n",
    "Article:\n",
    "- [Univariate Drift Detection Methods](https://nannyml.readthedocs.io/en/stable/how_it_works/univariate_drift_detection.html)"
   ]
  },
  {
   "cell_type": "code",
   "execution_count": null,
   "id": "1ec8c62a",
   "metadata": {},
   "outputs": [],
   "source": []
  },
  {
   "cell_type": "markdown",
   "id": "78d832d8",
   "metadata": {},
   "source": [
    "# Afterthoughts"
   ]
  },
  {
   "cell_type": "markdown",
   "id": "fb43caca",
   "metadata": {},
   "source": [
    "## False alarms"
   ]
  },
  {
   "cell_type": "code",
   "execution_count": null,
   "id": "27e0e767",
   "metadata": {},
   "outputs": [],
   "source": []
  },
  {
   "cell_type": "markdown",
   "id": "91dd2472",
   "metadata": {},
   "source": [
    "## Realised performance"
   ]
  },
  {
   "cell_type": "code",
   "execution_count": null,
   "id": "b0a6a49f",
   "metadata": {},
   "outputs": [],
   "source": []
  },
  {
   "cell_type": "markdown",
   "id": "1788cdcf",
   "metadata": {},
   "source": [
    "## Prediction drift"
   ]
  },
  {
   "cell_type": "code",
   "execution_count": null,
   "id": "6c4090c9",
   "metadata": {},
   "outputs": [],
   "source": []
  },
  {
   "cell_type": "markdown",
   "id": "749c6ea4",
   "metadata": {},
   "source": [
    "## Target drift"
   ]
  },
  {
   "cell_type": "code",
   "execution_count": null,
   "id": "8a849b14",
   "metadata": {},
   "outputs": [],
   "source": []
  }
 ],
 "metadata": {
  "kernelspec": {
   "display_name": "Python 3 (ipykernel)",
   "language": "python",
   "name": "python3"
  },
  "language_info": {
   "codemirror_mode": {
    "name": "ipython",
    "version": 3
   },
   "file_extension": ".py",
   "mimetype": "text/x-python",
   "name": "python",
   "nbconvert_exporter": "python",
   "pygments_lexer": "ipython3",
   "version": "3.10.8"
  }
 },
 "nbformat": 4,
 "nbformat_minor": 5
}
